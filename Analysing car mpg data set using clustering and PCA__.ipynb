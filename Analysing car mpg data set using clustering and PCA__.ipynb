{
 "cells": [
  {
   "cell_type": "code",
   "execution_count": 97,
   "id": "edee51d9",
   "metadata": {},
   "outputs": [],
   "source": [
    "import pandas as pd\n",
    "import numpy as np\n",
    "import matplotlib.pyplot as plt\n",
    "from scipy.stats import zscore\n",
    "import seaborn as sns\n",
    "from sklearn.svm import SVR,SVC\n",
    "from sklearn.preprocessing import LabelEncoder,PolynomialFeatures\n",
    "from statsmodels.stats.outliers_influence import variance_inflation_factor\n",
    "from sklearn.cluster import KMeans\n",
    "from sklearn.linear_model import LinearRegression"
   ]
  },
  {
   "cell_type": "code",
   "execution_count": 98,
   "id": "db926b6c",
   "metadata": {},
   "outputs": [
    {
     "data": {
      "text/html": [
       "<div>\n",
       "<style scoped>\n",
       "    .dataframe tbody tr th:only-of-type {\n",
       "        vertical-align: middle;\n",
       "    }\n",
       "\n",
       "    .dataframe tbody tr th {\n",
       "        vertical-align: top;\n",
       "    }\n",
       "\n",
       "    .dataframe thead th {\n",
       "        text-align: right;\n",
       "    }\n",
       "</style>\n",
       "<table border=\"1\" class=\"dataframe\">\n",
       "  <thead>\n",
       "    <tr style=\"text-align: right;\">\n",
       "      <th></th>\n",
       "      <th>mpg</th>\n",
       "      <th>cyl</th>\n",
       "      <th>disp</th>\n",
       "      <th>hp</th>\n",
       "      <th>wt</th>\n",
       "      <th>acc</th>\n",
       "      <th>yr</th>\n",
       "      <th>origin</th>\n",
       "      <th>car_type</th>\n",
       "      <th>car_name</th>\n",
       "    </tr>\n",
       "  </thead>\n",
       "  <tbody>\n",
       "    <tr>\n",
       "      <th>0</th>\n",
       "      <td>18.0</td>\n",
       "      <td>8</td>\n",
       "      <td>307.0</td>\n",
       "      <td>130</td>\n",
       "      <td>3504</td>\n",
       "      <td>12.0</td>\n",
       "      <td>70</td>\n",
       "      <td>1</td>\n",
       "      <td>0</td>\n",
       "      <td>chevrolet chevelle malibu</td>\n",
       "    </tr>\n",
       "    <tr>\n",
       "      <th>1</th>\n",
       "      <td>15.0</td>\n",
       "      <td>8</td>\n",
       "      <td>350.0</td>\n",
       "      <td>165</td>\n",
       "      <td>3693</td>\n",
       "      <td>11.5</td>\n",
       "      <td>70</td>\n",
       "      <td>1</td>\n",
       "      <td>0</td>\n",
       "      <td>buick skylark 320</td>\n",
       "    </tr>\n",
       "    <tr>\n",
       "      <th>2</th>\n",
       "      <td>18.0</td>\n",
       "      <td>8</td>\n",
       "      <td>318.0</td>\n",
       "      <td>150</td>\n",
       "      <td>3436</td>\n",
       "      <td>11.0</td>\n",
       "      <td>70</td>\n",
       "      <td>1</td>\n",
       "      <td>0</td>\n",
       "      <td>plymouth satellite</td>\n",
       "    </tr>\n",
       "    <tr>\n",
       "      <th>3</th>\n",
       "      <td>16.0</td>\n",
       "      <td>8</td>\n",
       "      <td>304.0</td>\n",
       "      <td>150</td>\n",
       "      <td>3433</td>\n",
       "      <td>12.0</td>\n",
       "      <td>70</td>\n",
       "      <td>1</td>\n",
       "      <td>0</td>\n",
       "      <td>amc rebel sst</td>\n",
       "    </tr>\n",
       "    <tr>\n",
       "      <th>4</th>\n",
       "      <td>17.0</td>\n",
       "      <td>8</td>\n",
       "      <td>302.0</td>\n",
       "      <td>140</td>\n",
       "      <td>3449</td>\n",
       "      <td>10.5</td>\n",
       "      <td>70</td>\n",
       "      <td>1</td>\n",
       "      <td>0</td>\n",
       "      <td>ford torino</td>\n",
       "    </tr>\n",
       "  </tbody>\n",
       "</table>\n",
       "</div>"
      ],
      "text/plain": [
       "    mpg  cyl   disp   hp    wt   acc  yr  origin  car_type  \\\n",
       "0  18.0    8  307.0  130  3504  12.0  70       1         0   \n",
       "1  15.0    8  350.0  165  3693  11.5  70       1         0   \n",
       "2  18.0    8  318.0  150  3436  11.0  70       1         0   \n",
       "3  16.0    8  304.0  150  3433  12.0  70       1         0   \n",
       "4  17.0    8  302.0  140  3449  10.5  70       1         0   \n",
       "\n",
       "                    car_name  \n",
       "0  chevrolet chevelle malibu  \n",
       "1          buick skylark 320  \n",
       "2         plymouth satellite  \n",
       "3              amc rebel sst  \n",
       "4                ford torino  "
      ]
     },
     "execution_count": 98,
     "metadata": {},
     "output_type": "execute_result"
    }
   ],
   "source": [
    "data=pd.read_csv('car-mpg (1).csv')\n",
    "data.head()"
   ]
  },
  {
   "cell_type": "code",
   "execution_count": 99,
   "id": "cd9d3404",
   "metadata": {},
   "outputs": [
    {
     "data": {
      "text/html": [
       "<div>\n",
       "<style scoped>\n",
       "    .dataframe tbody tr th:only-of-type {\n",
       "        vertical-align: middle;\n",
       "    }\n",
       "\n",
       "    .dataframe tbody tr th {\n",
       "        vertical-align: top;\n",
       "    }\n",
       "\n",
       "    .dataframe thead th {\n",
       "        text-align: right;\n",
       "    }\n",
       "</style>\n",
       "<table border=\"1\" class=\"dataframe\">\n",
       "  <thead>\n",
       "    <tr style=\"text-align: right;\">\n",
       "      <th></th>\n",
       "      <th>mpg</th>\n",
       "      <th>cyl</th>\n",
       "      <th>disp</th>\n",
       "      <th>hp</th>\n",
       "      <th>wt</th>\n",
       "      <th>acc</th>\n",
       "      <th>yr</th>\n",
       "      <th>origin</th>\n",
       "      <th>car_type</th>\n",
       "      <th>car_name</th>\n",
       "    </tr>\n",
       "  </thead>\n",
       "  <tbody>\n",
       "    <tr>\n",
       "      <th>393</th>\n",
       "      <td>27.0</td>\n",
       "      <td>4</td>\n",
       "      <td>140.0</td>\n",
       "      <td>86</td>\n",
       "      <td>2790</td>\n",
       "      <td>15.6</td>\n",
       "      <td>82</td>\n",
       "      <td>1</td>\n",
       "      <td>1</td>\n",
       "      <td>ford mustang gl</td>\n",
       "    </tr>\n",
       "    <tr>\n",
       "      <th>394</th>\n",
       "      <td>44.0</td>\n",
       "      <td>4</td>\n",
       "      <td>97.0</td>\n",
       "      <td>52</td>\n",
       "      <td>2130</td>\n",
       "      <td>24.6</td>\n",
       "      <td>82</td>\n",
       "      <td>2</td>\n",
       "      <td>1</td>\n",
       "      <td>vw pickup</td>\n",
       "    </tr>\n",
       "    <tr>\n",
       "      <th>395</th>\n",
       "      <td>32.0</td>\n",
       "      <td>4</td>\n",
       "      <td>135.0</td>\n",
       "      <td>84</td>\n",
       "      <td>2295</td>\n",
       "      <td>11.6</td>\n",
       "      <td>82</td>\n",
       "      <td>1</td>\n",
       "      <td>1</td>\n",
       "      <td>dodge rampage</td>\n",
       "    </tr>\n",
       "    <tr>\n",
       "      <th>396</th>\n",
       "      <td>28.0</td>\n",
       "      <td>4</td>\n",
       "      <td>120.0</td>\n",
       "      <td>79</td>\n",
       "      <td>2625</td>\n",
       "      <td>18.6</td>\n",
       "      <td>82</td>\n",
       "      <td>1</td>\n",
       "      <td>1</td>\n",
       "      <td>ford ranger</td>\n",
       "    </tr>\n",
       "    <tr>\n",
       "      <th>397</th>\n",
       "      <td>31.0</td>\n",
       "      <td>4</td>\n",
       "      <td>119.0</td>\n",
       "      <td>82</td>\n",
       "      <td>2720</td>\n",
       "      <td>19.4</td>\n",
       "      <td>82</td>\n",
       "      <td>1</td>\n",
       "      <td>1</td>\n",
       "      <td>chevy s-10</td>\n",
       "    </tr>\n",
       "  </tbody>\n",
       "</table>\n",
       "</div>"
      ],
      "text/plain": [
       "      mpg  cyl   disp  hp    wt   acc  yr  origin  car_type         car_name\n",
       "393  27.0    4  140.0  86  2790  15.6  82       1         1  ford mustang gl\n",
       "394  44.0    4   97.0  52  2130  24.6  82       2         1        vw pickup\n",
       "395  32.0    4  135.0  84  2295  11.6  82       1         1    dodge rampage\n",
       "396  28.0    4  120.0  79  2625  18.6  82       1         1      ford ranger\n",
       "397  31.0    4  119.0  82  2720  19.4  82       1         1       chevy s-10"
      ]
     },
     "execution_count": 99,
     "metadata": {},
     "output_type": "execute_result"
    }
   ],
   "source": [
    "data.tail()"
   ]
  },
  {
   "cell_type": "code",
   "execution_count": 100,
   "id": "d6288405",
   "metadata": {},
   "outputs": [
    {
     "data": {
      "text/html": [
       "<div>\n",
       "<style scoped>\n",
       "    .dataframe tbody tr th:only-of-type {\n",
       "        vertical-align: middle;\n",
       "    }\n",
       "\n",
       "    .dataframe tbody tr th {\n",
       "        vertical-align: top;\n",
       "    }\n",
       "\n",
       "    .dataframe thead th {\n",
       "        text-align: right;\n",
       "    }\n",
       "</style>\n",
       "<table border=\"1\" class=\"dataframe\">\n",
       "  <thead>\n",
       "    <tr style=\"text-align: right;\">\n",
       "      <th></th>\n",
       "      <th>mpg</th>\n",
       "      <th>cyl</th>\n",
       "      <th>disp</th>\n",
       "      <th>hp</th>\n",
       "      <th>wt</th>\n",
       "      <th>acc</th>\n",
       "      <th>yr</th>\n",
       "      <th>origin</th>\n",
       "      <th>car_type</th>\n",
       "      <th>car_name</th>\n",
       "    </tr>\n",
       "  </thead>\n",
       "  <tbody>\n",
       "    <tr>\n",
       "      <th>237</th>\n",
       "      <td>30.5</td>\n",
       "      <td>4</td>\n",
       "      <td>98.0</td>\n",
       "      <td>63</td>\n",
       "      <td>2051</td>\n",
       "      <td>17.0</td>\n",
       "      <td>77</td>\n",
       "      <td>1</td>\n",
       "      <td>1</td>\n",
       "      <td>chevrolet chevette</td>\n",
       "    </tr>\n",
       "    <tr>\n",
       "      <th>223</th>\n",
       "      <td>15.5</td>\n",
       "      <td>8</td>\n",
       "      <td>318.0</td>\n",
       "      <td>145</td>\n",
       "      <td>4140</td>\n",
       "      <td>13.7</td>\n",
       "      <td>77</td>\n",
       "      <td>1</td>\n",
       "      <td>0</td>\n",
       "      <td>dodge monaco brougham</td>\n",
       "    </tr>\n",
       "    <tr>\n",
       "      <th>341</th>\n",
       "      <td>23.5</td>\n",
       "      <td>6</td>\n",
       "      <td>173.0</td>\n",
       "      <td>110</td>\n",
       "      <td>2725</td>\n",
       "      <td>12.6</td>\n",
       "      <td>81</td>\n",
       "      <td>1</td>\n",
       "      <td>0</td>\n",
       "      <td>chevrolet citation</td>\n",
       "    </tr>\n",
       "    <tr>\n",
       "      <th>268</th>\n",
       "      <td>27.2</td>\n",
       "      <td>4</td>\n",
       "      <td>119.0</td>\n",
       "      <td>97</td>\n",
       "      <td>2300</td>\n",
       "      <td>14.7</td>\n",
       "      <td>78</td>\n",
       "      <td>3</td>\n",
       "      <td>1</td>\n",
       "      <td>datsun 510</td>\n",
       "    </tr>\n",
       "    <tr>\n",
       "      <th>241</th>\n",
       "      <td>22.0</td>\n",
       "      <td>6</td>\n",
       "      <td>146.0</td>\n",
       "      <td>97</td>\n",
       "      <td>2815</td>\n",
       "      <td>14.5</td>\n",
       "      <td>77</td>\n",
       "      <td>3</td>\n",
       "      <td>0</td>\n",
       "      <td>datsun 810</td>\n",
       "    </tr>\n",
       "  </tbody>\n",
       "</table>\n",
       "</div>"
      ],
      "text/plain": [
       "      mpg  cyl   disp   hp    wt   acc  yr  origin  car_type  \\\n",
       "237  30.5    4   98.0   63  2051  17.0  77       1         1   \n",
       "223  15.5    8  318.0  145  4140  13.7  77       1         0   \n",
       "341  23.5    6  173.0  110  2725  12.6  81       1         0   \n",
       "268  27.2    4  119.0   97  2300  14.7  78       3         1   \n",
       "241  22.0    6  146.0   97  2815  14.5  77       3         0   \n",
       "\n",
       "                  car_name  \n",
       "237     chevrolet chevette  \n",
       "223  dodge monaco brougham  \n",
       "341     chevrolet citation  \n",
       "268             datsun 510  \n",
       "241             datsun 810  "
      ]
     },
     "execution_count": 100,
     "metadata": {},
     "output_type": "execute_result"
    }
   ],
   "source": [
    "data.sample(5)"
   ]
  },
  {
   "cell_type": "code",
   "execution_count": 101,
   "id": "25c57527",
   "metadata": {},
   "outputs": [],
   "source": [
    "data['origin']=data['origin'].astype('category')\n",
    "data['car_type']=data['car_type'].astype('category')"
   ]
  },
  {
   "cell_type": "code",
   "execution_count": 102,
   "id": "e5fe1788",
   "metadata": {},
   "outputs": [
    {
     "name": "stdout",
     "output_type": "stream",
     "text": [
      "<class 'pandas.core.frame.DataFrame'>\n",
      "RangeIndex: 398 entries, 0 to 397\n",
      "Data columns (total 10 columns):\n",
      " #   Column    Non-Null Count  Dtype   \n",
      "---  ------    --------------  -----   \n",
      " 0   mpg       398 non-null    float64 \n",
      " 1   cyl       398 non-null    int64   \n",
      " 2   disp      398 non-null    float64 \n",
      " 3   hp        398 non-null    object  \n",
      " 4   wt        398 non-null    int64   \n",
      " 5   acc       398 non-null    float64 \n",
      " 6   yr        398 non-null    int64   \n",
      " 7   origin    398 non-null    category\n",
      " 8   car_type  398 non-null    category\n",
      " 9   car_name  398 non-null    object  \n",
      "dtypes: category(2), float64(3), int64(3), object(2)\n",
      "memory usage: 26.0+ KB\n"
     ]
    }
   ],
   "source": [
    "data.info()"
   ]
  },
  {
   "cell_type": "code",
   "execution_count": 103,
   "id": "ce730cd7",
   "metadata": {},
   "outputs": [
    {
     "data": {
      "text/plain": [
       "mpg         0\n",
       "cyl         0\n",
       "disp        0\n",
       "hp          0\n",
       "wt          0\n",
       "acc         0\n",
       "yr          0\n",
       "origin      0\n",
       "car_type    0\n",
       "car_name    0\n",
       "dtype: int64"
      ]
     },
     "execution_count": 103,
     "metadata": {},
     "output_type": "execute_result"
    }
   ],
   "source": [
    "data.isna().sum()"
   ]
  },
  {
   "cell_type": "code",
   "execution_count": 104,
   "id": "2c2a4442",
   "metadata": {},
   "outputs": [],
   "source": [
    "data['hp']=data['hp'].replace('?',np.nan)\n",
    "data['hp']=data['hp'].fillna(data['hp'].median())\n",
    "data['hp']=data['hp'].astype('int64')"
   ]
  },
  {
   "cell_type": "code",
   "execution_count": 105,
   "id": "9e0e8789",
   "metadata": {},
   "outputs": [],
   "source": [
    "data.drop('car_name',axis=1,inplace=True)"
   ]
  },
  {
   "cell_type": "code",
   "execution_count": 106,
   "id": "1305aa09",
   "metadata": {},
   "outputs": [],
   "source": [
    "Data=pd.get_dummies(data,columns=['car_type'])"
   ]
  },
  {
   "cell_type": "code",
   "execution_count": 107,
   "id": "b629c37f",
   "metadata": {},
   "outputs": [],
   "source": [
    "num_cols=Data.select_dtypes(include=['int64','float64']).columns"
   ]
  },
  {
   "cell_type": "code",
   "execution_count": 108,
   "id": "01db48ec",
   "metadata": {},
   "outputs": [],
   "source": [
    "Data[num_cols]=Data[num_cols].apply(zscore)"
   ]
  },
  {
   "cell_type": "code",
   "execution_count": 109,
   "id": "4e2b6cf3",
   "metadata": {},
   "outputs": [],
   "source": [
    "x=Data.drop('mpg',1)\n",
    "y=Data[['mpg']]"
   ]
  },
  {
   "cell_type": "code",
   "execution_count": 110,
   "id": "c21eaf9d",
   "metadata": {},
   "outputs": [],
   "source": [
    "from sklearn.model_selection import train_test_split\n",
    "x_train,x_test,y_train,y_test=train_test_split(x,y,random_state=1,test_size=0.3)"
   ]
  },
  {
   "cell_type": "code",
   "execution_count": 111,
   "id": "42dc6fa2",
   "metadata": {},
   "outputs": [
    {
     "name": "stdout",
     "output_type": "stream",
     "text": [
      "0.8904256555664131\n"
     ]
    },
    {
     "name": "stderr",
     "output_type": "stream",
     "text": [
      "E:\\Anacondafiles\\lib\\site-packages\\sklearn\\utils\\validation.py:63: DataConversionWarning: A column-vector y was passed when a 1d array was expected. Please change the shape of y to (n_samples, ), for example using ravel().\n",
      "  return f(*args, **kwargs)\n"
     ]
    }
   ],
   "source": [
    "from sklearn import metrics\n",
    "svm=SVR()\n",
    "svm.fit(x_train,y_train)\n",
    "yhat_svm=svm.predict(x_test)\n",
    "print(metrics.r2_score(y_test,yhat_svm))"
   ]
  },
  {
   "cell_type": "code",
   "execution_count": 112,
   "id": "4d8b50d3",
   "metadata": {},
   "outputs": [
    {
     "name": "stderr",
     "output_type": "stream",
     "text": [
      "E:\\Anacondafiles\\lib\\site-packages\\seaborn\\_decorators.py:36: FutureWarning: Pass the following variables as keyword args: x, y. From version 0.12, the only valid positional argument will be `data`, and passing other arguments without an explicit keyword will result in an error or misinterpretation.\n",
      "  warnings.warn(\n"
     ]
    },
    {
     "data": {
      "text/plain": [
       "<AxesSubplot:xlabel='mpg'>"
      ]
     },
     "execution_count": 112,
     "metadata": {},
     "output_type": "execute_result"
    },
    {
     "data": {
      "image/png": "[encoded data removed]",
      "text/plain": [
       "<Figure size 1080x720 with 1 Axes>"
      ]
     },
     "metadata": {
      "needs_background": "light"
     },
     "output_type": "display_data"
    }
   ],
   "source": [
    "plt.figure(figsize=(15,10))\n",
    "sns.regplot(y_test,yhat_svm)"
   ]
  },
  {
   "cell_type": "code",
   "execution_count": 113,
   "id": "7fa372ba",
   "metadata": {},
   "outputs": [],
   "source": [
    "import statsmodels.api as  sm"
   ]
  },
  {
   "cell_type": "code",
   "execution_count": 114,
   "id": "52740130",
   "metadata": {},
   "outputs": [
    {
     "data": {
      "text/html": [
       "<table class=\"simpletable\">\n",
       "<caption>OLS Regression Results</caption>\n",
       "<tr>\n",
       "  <th>Dep. Variable:</th>           <td>mpg</td>       <th>  R-squared:         </th> <td>   0.840</td> \n",
       "</tr>\n",
       "<tr>\n",
       "  <th>Model:</th>                   <td>OLS</td>       <th>  Adj. R-squared:    </th> <td>   0.837</td> \n",
       "</tr>\n",
       "<tr>\n",
       "  <th>Method:</th>             <td>Least Squares</td>  <th>  F-statistic:       </th> <td>   255.3</td> \n",
       "</tr>\n",
       "<tr>\n",
       "  <th>Date:</th>             <td>Fri, 19 Nov 2021</td> <th>  Prob (F-statistic):</th> <td>1.14e-149</td>\n",
       "</tr>\n",
       "<tr>\n",
       "  <th>Time:</th>                 <td>22:08:41</td>     <th>  Log-Likelihood:    </th> <td> -200.01</td> \n",
       "</tr>\n",
       "<tr>\n",
       "  <th>No. Observations:</th>      <td>   398</td>      <th>  AIC:               </th> <td>   418.0</td> \n",
       "</tr>\n",
       "<tr>\n",
       "  <th>Df Residuals:</th>          <td>   389</td>      <th>  BIC:               </th> <td>   453.9</td> \n",
       "</tr>\n",
       "<tr>\n",
       "  <th>Df Model:</th>              <td>     8</td>      <th>                     </th>     <td> </td>    \n",
       "</tr>\n",
       "<tr>\n",
       "  <th>Covariance Type:</th>      <td>nonrobust</td>    <th>                     </th>     <td> </td>    \n",
       "</tr>\n",
       "</table>\n",
       "<table class=\"simpletable\">\n",
       "<tr>\n",
       "       <td></td>         <th>coef</th>     <th>std err</th>      <th>t</th>      <th>P>|t|</th>  <th>[0.025</th>    <th>0.975]</th>  \n",
       "</tr>\n",
       "<tr>\n",
       "  <th>const</th>      <td>   -0.1736</td> <td>    0.038</td> <td>   -4.607</td> <td> 0.000</td> <td>   -0.248</td> <td>   -0.100</td>\n",
       "</tr>\n",
       "<tr>\n",
       "  <th>cyl</th>        <td>    0.2733</td> <td>    0.085</td> <td>    3.206</td> <td> 0.001</td> <td>    0.106</td> <td>    0.441</td>\n",
       "</tr>\n",
       "<tr>\n",
       "  <th>disp</th>       <td>    0.2436</td> <td>    0.095</td> <td>    2.567</td> <td> 0.011</td> <td>    0.057</td> <td>    0.430</td>\n",
       "</tr>\n",
       "<tr>\n",
       "  <th>hp</th>         <td>   -0.1613</td> <td>    0.064</td> <td>   -2.515</td> <td> 0.012</td> <td>   -0.287</td> <td>   -0.035</td>\n",
       "</tr>\n",
       "<tr>\n",
       "  <th>wt</th>         <td>   -0.6788</td> <td>    0.066</td> <td>  -10.224</td> <td> 0.000</td> <td>   -0.809</td> <td>   -0.548</td>\n",
       "</tr>\n",
       "<tr>\n",
       "  <th>acc</th>        <td>    0.0319</td> <td>    0.032</td> <td>    0.984</td> <td> 0.326</td> <td>   -0.032</td> <td>    0.096</td>\n",
       "</tr>\n",
       "<tr>\n",
       "  <th>yr</th>         <td>    0.3483</td> <td>    0.023</td> <td>   15.371</td> <td> 0.000</td> <td>    0.304</td> <td>    0.393</td>\n",
       "</tr>\n",
       "<tr>\n",
       "  <th>origin</th>     <td>    0.1517</td> <td>    0.034</td> <td>    4.493</td> <td> 0.000</td> <td>    0.085</td> <td>    0.218</td>\n",
       "</tr>\n",
       "<tr>\n",
       "  <th>car_type_0</th> <td>   -0.4496</td> <td>    0.055</td> <td>   -8.138</td> <td> 0.000</td> <td>   -0.558</td> <td>   -0.341</td>\n",
       "</tr>\n",
       "<tr>\n",
       "  <th>car_type_1</th> <td>    0.2760</td> <td>    0.058</td> <td>    4.783</td> <td> 0.000</td> <td>    0.163</td> <td>    0.389</td>\n",
       "</tr>\n",
       "</table>\n",
       "<table class=\"simpletable\">\n",
       "<tr>\n",
       "  <th>Omnibus:</th>       <td>39.582</td> <th>  Durbin-Watson:     </th> <td>   1.368</td>\n",
       "</tr>\n",
       "<tr>\n",
       "  <th>Prob(Omnibus):</th> <td> 0.000</td> <th>  Jarque-Bera (JB):  </th> <td>  69.713</td>\n",
       "</tr>\n",
       "<tr>\n",
       "  <th>Skew:</th>          <td> 0.609</td> <th>  Prob(JB):          </th> <td>7.28e-16</td>\n",
       "</tr>\n",
       "<tr>\n",
       "  <th>Kurtosis:</th>      <td> 4.649</td> <th>  Cond. No.          </th> <td>8.32e+15</td>\n",
       "</tr>\n",
       "</table><br/><br/>Notes:<br/>[1] Standard Errors assume that the covariance matrix of the errors is correctly specified.<br/>[2] The smallest eigenvalue is 3.08e-29. This might indicate that there are<br/>strong multicollinearity problems or that the design matrix is singular."
      ],
      "text/plain": [
       "<class 'statsmodels.iolib.summary.Summary'>\n",
       "\"\"\"\n",
       "                            OLS Regression Results                            \n",
       "==============================================================================\n",
       "Dep. Variable:                    mpg   R-squared:                       0.840\n",
       "Model:                            OLS   Adj. R-squared:                  0.837\n",
       "Method:                 Least Squares   F-statistic:                     255.3\n",
       "Date:                Fri, 19 Nov 2021   Prob (F-statistic):          1.14e-149\n",
       "Time:                        22:08:41   Log-Likelihood:                -200.01\n",
       "No. Observations:                 398   AIC:                             418.0\n",
       "Df Residuals:                     389   BIC:                             453.9\n",
       "Df Model:                           8                                         \n",
       "Covariance Type:            nonrobust                                         \n",
       "==============================================================================\n",
       "                 coef    std err          t      P>|t|      [0.025      0.975]\n",
       "------------------------------------------------------------------------------\n",
       "const         -0.1736      0.038     -4.607      0.000      -0.248      -0.100\n",
       "cyl            0.2733      0.085      3.206      0.001       0.106       0.441\n",
       "disp           0.2436      0.095      2.567      0.011       0.057       0.430\n",
       "hp            -0.1613      0.064     -2.515      0.012      -0.287      -0.035\n",
       "wt            -0.6788      0.066    -10.224      0.000      -0.809      -0.548\n",
       "acc            0.0319      0.032      0.984      0.326      -0.032       0.096\n",
       "yr             0.3483      0.023     15.371      0.000       0.304       0.393\n",
       "origin         0.1517      0.034      4.493      0.000       0.085       0.218\n",
       "car_type_0    -0.4496      0.055     -8.138      0.000      -0.558      -0.341\n",
       "car_type_1     0.2760      0.058      4.783      0.000       0.163       0.389\n",
       "==============================================================================\n",
       "Omnibus:                       39.582   Durbin-Watson:                   1.368\n",
       "Prob(Omnibus):                  0.000   Jarque-Bera (JB):               69.713\n",
       "Skew:                           0.609   Prob(JB):                     7.28e-16\n",
       "Kurtosis:                       4.649   Cond. No.                     8.32e+15\n",
       "==============================================================================\n",
       "\n",
       "Notes:\n",
       "[1] Standard Errors assume that the covariance matrix of the errors is correctly specified.\n",
       "[2] The smallest eigenvalue is 3.08e-29. This might indicate that there are\n",
       "strong multicollinearity problems or that the design matrix is singular.\n",
       "\"\"\""
      ]
     },
     "execution_count": 114,
     "metadata": {},
     "output_type": "execute_result"
    }
   ],
   "source": [
    "X=sm.add_constant(x)\n",
    "result=sm.OLS(y,X).fit()\n",
    "result.summary()"
   ]
  },
  {
   "cell_type": "code",
   "execution_count": 117,
   "id": "cadaddab",
   "metadata": {},
   "outputs": [],
   "source": [
    "x1=x.drop('acc',1)"
   ]
  },
  {
   "cell_type": "code",
   "execution_count": 118,
   "id": "a8ce059e",
   "metadata": {},
   "outputs": [
    {
     "data": {
      "text/html": [
       "<table class=\"simpletable\">\n",
       "<caption>OLS Regression Results</caption>\n",
       "<tr>\n",
       "  <th>Dep. Variable:</th>           <td>mpg</td>       <th>  R-squared:         </th> <td>   0.840</td> \n",
       "</tr>\n",
       "<tr>\n",
       "  <th>Model:</th>                   <td>OLS</td>       <th>  Adj. R-squared:    </th> <td>   0.837</td> \n",
       "</tr>\n",
       "<tr>\n",
       "  <th>Method:</th>             <td>Least Squares</td>  <th>  F-statistic:       </th> <td>   291.7</td> \n",
       "</tr>\n",
       "<tr>\n",
       "  <th>Date:</th>             <td>Fri, 19 Nov 2021</td> <th>  Prob (F-statistic):</th> <td>1.05e-150</td>\n",
       "</tr>\n",
       "<tr>\n",
       "  <th>Time:</th>                 <td>22:10:08</td>     <th>  Log-Likelihood:    </th> <td> -200.50</td> \n",
       "</tr>\n",
       "<tr>\n",
       "  <th>No. Observations:</th>      <td>   398</td>      <th>  AIC:               </th> <td>   417.0</td> \n",
       "</tr>\n",
       "<tr>\n",
       "  <th>Df Residuals:</th>          <td>   390</td>      <th>  BIC:               </th> <td>   448.9</td> \n",
       "</tr>\n",
       "<tr>\n",
       "  <th>Df Model:</th>              <td>     7</td>      <th>                     </th>     <td> </td>    \n",
       "</tr>\n",
       "<tr>\n",
       "  <th>Covariance Type:</th>      <td>nonrobust</td>    <th>                     </th>     <td> </td>    \n",
       "</tr>\n",
       "</table>\n",
       "<table class=\"simpletable\">\n",
       "<tr>\n",
       "       <td></td>         <th>coef</th>     <th>std err</th>      <th>t</th>      <th>P>|t|</th>  <th>[0.025</th>    <th>0.975]</th>  \n",
       "</tr>\n",
       "<tr>\n",
       "  <th>const</th>      <td>   -0.1732</td> <td>    0.038</td> <td>   -4.598</td> <td> 0.000</td> <td>   -0.247</td> <td>   -0.099</td>\n",
       "</tr>\n",
       "<tr>\n",
       "  <th>cyl</th>        <td>    0.2709</td> <td>    0.085</td> <td>    3.180</td> <td> 0.002</td> <td>    0.103</td> <td>    0.438</td>\n",
       "</tr>\n",
       "<tr>\n",
       "  <th>disp</th>       <td>    0.2332</td> <td>    0.094</td> <td>    2.473</td> <td> 0.014</td> <td>    0.048</td> <td>    0.419</td>\n",
       "</tr>\n",
       "<tr>\n",
       "  <th>hp</th>         <td>   -0.1986</td> <td>    0.052</td> <td>   -3.840</td> <td> 0.000</td> <td>   -0.300</td> <td>   -0.097</td>\n",
       "</tr>\n",
       "<tr>\n",
       "  <th>wt</th>         <td>   -0.6483</td> <td>    0.059</td> <td>  -11.040</td> <td> 0.000</td> <td>   -0.764</td> <td>   -0.533</td>\n",
       "</tr>\n",
       "<tr>\n",
       "  <th>yr</th>         <td>    0.3466</td> <td>    0.023</td> <td>   15.342</td> <td> 0.000</td> <td>    0.302</td> <td>    0.391</td>\n",
       "</tr>\n",
       "<tr>\n",
       "  <th>origin</th>     <td>    0.1513</td> <td>    0.034</td> <td>    4.482</td> <td> 0.000</td> <td>    0.085</td> <td>    0.218</td>\n",
       "</tr>\n",
       "<tr>\n",
       "  <th>car_type_0</th> <td>   -0.4500</td> <td>    0.055</td> <td>   -8.147</td> <td> 0.000</td> <td>   -0.559</td> <td>   -0.341</td>\n",
       "</tr>\n",
       "<tr>\n",
       "  <th>car_type_1</th> <td>    0.2768</td> <td>    0.058</td> <td>    4.798</td> <td> 0.000</td> <td>    0.163</td> <td>    0.390</td>\n",
       "</tr>\n",
       "</table>\n",
       "<table class=\"simpletable\">\n",
       "<tr>\n",
       "  <th>Omnibus:</th>       <td>43.738</td> <th>  Durbin-Watson:     </th> <td>   1.369</td>\n",
       "</tr>\n",
       "<tr>\n",
       "  <th>Prob(Omnibus):</th> <td> 0.000</td> <th>  Jarque-Bera (JB):  </th> <td>  80.622</td>\n",
       "</tr>\n",
       "<tr>\n",
       "  <th>Skew:</th>          <td> 0.648</td> <th>  Prob(JB):          </th> <td>3.11e-18</td>\n",
       "</tr>\n",
       "<tr>\n",
       "  <th>Kurtosis:</th>      <td> 4.783</td> <th>  Cond. No.          </th> <td>8.05e+15</td>\n",
       "</tr>\n",
       "</table><br/><br/>Notes:<br/>[1] Standard Errors assume that the covariance matrix of the errors is correctly specified.<br/>[2] The smallest eigenvalue is 3.18e-29. This might indicate that there are<br/>strong multicollinearity problems or that the design matrix is singular."
      ],
      "text/plain": [
       "<class 'statsmodels.iolib.summary.Summary'>\n",
       "\"\"\"\n",
       "                            OLS Regression Results                            \n",
       "==============================================================================\n",
       "Dep. Variable:                    mpg   R-squared:                       0.840\n",
       "Model:                            OLS   Adj. R-squared:                  0.837\n",
       "Method:                 Least Squares   F-statistic:                     291.7\n",
       "Date:                Fri, 19 Nov 2021   Prob (F-statistic):          1.05e-150\n",
       "Time:                        22:10:08   Log-Likelihood:                -200.50\n",
       "No. Observations:                 398   AIC:                             417.0\n",
       "Df Residuals:                     390   BIC:                             448.9\n",
       "Df Model:                           7                                         \n",
       "Covariance Type:            nonrobust                                         \n",
       "==============================================================================\n",
       "                 coef    std err          t      P>|t|      [0.025      0.975]\n",
       "------------------------------------------------------------------------------\n",
       "const         -0.1732      0.038     -4.598      0.000      -0.247      -0.099\n",
       "cyl            0.2709      0.085      3.180      0.002       0.103       0.438\n",
       "disp           0.2332      0.094      2.473      0.014       0.048       0.419\n",
       "hp            -0.1986      0.052     -3.840      0.000      -0.300      -0.097\n",
       "wt            -0.6483      0.059    -11.040      0.000      -0.764      -0.533\n",
       "yr             0.3466      0.023     15.342      0.000       0.302       0.391\n",
       "origin         0.1513      0.034      4.482      0.000       0.085       0.218\n",
       "car_type_0    -0.4500      0.055     -8.147      0.000      -0.559      -0.341\n",
       "car_type_1     0.2768      0.058      4.798      0.000       0.163       0.390\n",
       "==============================================================================\n",
       "Omnibus:                       43.738   Durbin-Watson:                   1.369\n",
       "Prob(Omnibus):                  0.000   Jarque-Bera (JB):               80.622\n",
       "Skew:                           0.648   Prob(JB):                     3.11e-18\n",
       "Kurtosis:                       4.783   Cond. No.                     8.05e+15\n",
       "==============================================================================\n",
       "\n",
       "Notes:\n",
       "[1] Standard Errors assume that the covariance matrix of the errors is correctly specified.\n",
       "[2] The smallest eigenvalue is 3.18e-29. This might indicate that there are\n",
       "strong multicollinearity problems or that the design matrix is singular.\n",
       "\"\"\""
      ]
     },
     "execution_count": 118,
     "metadata": {},
     "output_type": "execute_result"
    }
   ],
   "source": [
    "X=sm.add_constant(x1)\n",
    "result=sm.OLS(y,X).fit()\n",
    "result.summary()"
   ]
  },
  {
   "cell_type": "code",
   "execution_count": 119,
   "id": "f52cdcdf",
   "metadata": {},
   "outputs": [
    {
     "name": "stderr",
     "output_type": "stream",
     "text": [
      "E:\\Anacondafiles\\lib\\site-packages\\sklearn\\utils\\validation.py:63: DataConversionWarning: A column-vector y was passed when a 1d array was expected. Please change the shape of y to (n_samples, ), for example using ravel().\n",
      "  return f(*args, **kwargs)\n",
      "E:\\Anacondafiles\\lib\\site-packages\\seaborn\\_decorators.py:36: FutureWarning: Pass the following variables as keyword args: x, y. From version 0.12, the only valid positional argument will be `data`, and passing other arguments without an explicit keyword will result in an error or misinterpretation.\n",
      "  warnings.warn(\n"
     ]
    },
    {
     "name": "stdout",
     "output_type": "stream",
     "text": [
      "0.8885228545827725\n"
     ]
    },
    {
     "data": {
      "text/plain": [
       "<AxesSubplot:xlabel='mpg'>"
      ]
     },
     "execution_count": 119,
     "metadata": {},
     "output_type": "execute_result"
    },
    {
     "data": {
      "image/png": "[encoded data removed]",
      "text/plain": [
       "<Figure size 1080x720 with 1 Axes>"
      ]
     },
     "metadata": {
      "needs_background": "light"
     },
     "output_type": "display_data"
    }
   ],
   "source": [
    "x_train,x_test,y_train,y_test=train_test_split(x1,y,random_state=1,test_size=0.3)\n",
    "svm=SVR()\n",
    "svm.fit(x_train,y_train)\n",
    "yhat_svm=svm.predict(x_test)\n",
    "print(metrics.r2_score(y_test,yhat_svm))\n",
    "plt.figure(figsize=(15,10))\n",
    "sns.regplot(y_test,yhat_svm)"
   ]
  },
  {
   "cell_type": "code",
   "execution_count": 122,
   "id": "65b6fc22",
   "metadata": {},
   "outputs": [],
   "source": [
    "errors=[]\n",
    "for i in range(2,10):\n",
    "    kmeans=KMeans(n_clusters=i)\n",
    "    kmeans.fit(x)\n",
    "    errors.append(kmeans.inertia_)"
   ]
  },
  {
   "cell_type": "code",
   "execution_count": 124,
   "id": "835e398c",
   "metadata": {},
   "outputs": [
    {
     "data": {
      "text/plain": [
       "[<matplotlib.lines.Line2D at 0x240fe229fd0>]"
      ]
     },
     "execution_count": 124,
     "metadata": {},
     "output_type": "execute_result"
    },
    {
     "data": {
      "image/png": "[encoded data removed]",
      "text/plain": [
       "<Figure size 432x288 with 1 Axes>"
      ]
     },
     "metadata": {
      "needs_background": "light"
     },
     "output_type": "display_data"
    }
   ],
   "source": [
    "plt.plot(range(2,10),errors,marker='^')"
   ]
  },
  {
   "cell_type": "code",
   "execution_count": 125,
   "id": "8d72a973",
   "metadata": {},
   "outputs": [],
   "source": [
    "x_kmeans=x.copy()"
   ]
  },
  {
   "cell_type": "code",
   "execution_count": 126,
   "id": "ef62d28a",
   "metadata": {},
   "outputs": [],
   "source": [
    "kmeans=KMeans(n_clusters=3)\n",
    "kmeans.fit(x)\n",
    "labels=kmeans.labels_"
   ]
  },
  {
   "cell_type": "code",
   "execution_count": 127,
   "id": "fd5edd83",
   "metadata": {},
   "outputs": [],
   "source": [
    "x_kmeans['Group']=labels"
   ]
  },
  {
   "cell_type": "code",
   "execution_count": 129,
   "id": "72a5c118",
   "metadata": {},
   "outputs": [
    {
     "data": {
      "text/plain": [
       "<matplotlib.collections.PathCollection at 0x240fe427310>"
      ]
     },
     "execution_count": 129,
     "metadata": {},
     "output_type": "execute_result"
    },
    {
     "data": {
      "image/png": "[encoded data removed]",
      "text/plain": [
       "<Figure size 432x288 with 1 Axes>"
      ]
     },
     "metadata": {
      "needs_background": "light"
     },
     "output_type": "display_data"
    }
   ],
   "source": [
    "plt.scatter(x_kmeans['cyl'],x_kmeans['hp'],c=x_kmeans['Group'])"
   ]
  },
  {
   "cell_type": "code",
   "execution_count": 134,
   "id": "32e77580",
   "metadata": {},
   "outputs": [],
   "source": [
    "Data['Group']=labels"
   ]
  },
  {
   "cell_type": "code",
   "execution_count": 137,
   "id": "f24c9205",
   "metadata": {},
   "outputs": [
    {
     "name": "stderr",
     "output_type": "stream",
     "text": [
      "E:\\Anacondafiles\\lib\\site-packages\\seaborn\\_decorators.py:36: FutureWarning: Pass the following variables as keyword args: x, y. From version 0.12, the only valid positional argument will be `data`, and passing other arguments without an explicit keyword will result in an error or misinterpretation.\n",
      "  warnings.warn(\n"
     ]
    },
    {
     "data": {
      "text/plain": [
       "<seaborn.axisgrid.FacetGrid at 0x240fe08d610>"
      ]
     },
     "execution_count": 137,
     "metadata": {},
     "output_type": "execute_result"
    },
    {
     "data": {
      "image/png": "[encoded data removed]",
      "text/plain": [
       "<Figure size 402.375x360 with 1 Axes>"
      ]
     },
     "metadata": {
      "needs_background": "light"
     },
     "output_type": "display_data"
    }
   ],
   "source": [
    "sns.lmplot('acc','mpg',data=Data,hue='Group')"
   ]
  },
  {
   "cell_type": "markdown",
   "id": "77b47bda",
   "metadata": {},
   "source": [
    "#### PCA"
   ]
  },
  {
   "cell_type": "code",
   "execution_count": 141,
   "id": "00475d3d",
   "metadata": {},
   "outputs": [],
   "source": [
    "from sklearn.decomposition import PCA"
   ]
  },
  {
   "cell_type": "code",
   "execution_count": 142,
   "id": "40ee56df",
   "metadata": {},
   "outputs": [
    {
     "data": {
      "text/plain": [
       "array([0.67548834, 0.12574976, 0.10140791, 0.05082875, 0.02667963,\n",
       "       0.0086581 ])"
      ]
     },
     "execution_count": 142,
     "metadata": {},
     "output_type": "execute_result"
    }
   ],
   "source": [
    "pca=PCA(6)\n",
    "pca.fit(x)\n",
    "pca.explained_variance_ratio_"
   ]
  },
  {
   "cell_type": "code",
   "execution_count": 143,
   "id": "6e777be3",
   "metadata": {},
   "outputs": [
    {
     "name": "stdout",
     "output_type": "stream",
     "text": [
      "Eigen values :  [4.83503891 0.9000969  0.72586181 0.36382417 0.19096857 0.0619733 ]\n"
     ]
    }
   ],
   "source": [
    "print('Eigen values : ',pca.explained_variance_)"
   ]
  },
  {
   "cell_type": "code",
   "execution_count": 144,
   "id": "7d6eeae7",
   "metadata": {},
   "outputs": [
    {
     "name": "stdout",
     "output_type": "stream",
     "text": [
      "Eigen vectors : [[ 0.43375503  0.44453485  0.42652305  0.42341299 -0.28844364 -0.20852006\n",
      "  -0.22276185  0.19588475 -0.19588475]\n",
      " [ 0.15831027  0.12682769 -0.10640801  0.23371829  0.44739745  0.76390467\n",
      "  -0.2853845   0.11778487 -0.11778487]\n",
      " [ 0.05069888  0.02608036 -0.185697    0.09739571  0.71777014 -0.60558935\n",
      "  -0.24058048  0.08052558 -0.08052558]\n",
      " [-0.17616029 -0.0752064  -0.16173618 -0.22652252 -0.31177656 -0.03644876\n",
      "  -0.88441833 -0.05055487  0.05055487]\n",
      " [-0.4350819   0.01213455  0.51255353  0.37798689  0.18316581  0.02111952\n",
      "  -0.12211871 -0.42193753  0.42193753]\n",
      " [ 0.2649235   0.101993    0.56062719 -0.72282967  0.26258051  0.0634946\n",
      "  -0.06830541 -0.04990829  0.04990829]]\n"
     ]
    }
   ],
   "source": [
    "print('Eigen vectors :',pca.components_)"
   ]
  },
  {
   "cell_type": "code",
   "execution_count": 146,
   "id": "04c1e558",
   "metadata": {},
   "outputs": [
    {
     "data": {
      "text/plain": [
       "<BarContainer object of 6 artists>"
      ]
     },
     "execution_count": 146,
     "metadata": {},
     "output_type": "execute_result"
    },
    {
     "data": {
      "image/png": "[encoded data removed]",
      "text/plain": [
       "<Figure size 432x288 with 1 Axes>"
      ]
     },
     "metadata": {
      "needs_background": "light"
     },
     "output_type": "display_data"
    }
   ],
   "source": [
    "plt.bar(range(1,7),pca.explained_variance_ratio_)"
   ]
  },
  {
   "cell_type": "code",
   "execution_count": 147,
   "id": "27e8ebfc",
   "metadata": {},
   "outputs": [],
   "source": [
    "pca=PCA(4)\n",
    "pca.fit(x)\n",
    "new_x=pca.fit_transform(x)"
   ]
  },
  {
   "cell_type": "code",
   "execution_count": 151,
   "id": "094cad28",
   "metadata": {},
   "outputs": [
    {
     "name": "stderr",
     "output_type": "stream",
     "text": [
      "E:\\Anacondafiles\\lib\\site-packages\\sklearn\\utils\\validation.py:63: DataConversionWarning: A column-vector y was passed when a 1d array was expected. Please change the shape of y to (n_samples, ), for example using ravel().\n",
      "  return f(*args, **kwargs)\n"
     ]
    },
    {
     "data": {
      "text/plain": [
       "0.8760770460400295"
      ]
     },
     "execution_count": 151,
     "metadata": {},
     "output_type": "execute_result"
    }
   ],
   "source": [
    "x_train,x_test,y_train,y_test=train_test_split(new_x,y,test_size=0.3,random_state=1)\n",
    "svm.fit(x_train,y_train)\n",
    "yhat=svm.predict(x_test)\n",
    "metrics.r2_score(y_test,yhat)"
   ]
  },
  {
   "cell_type": "code",
   "execution_count": 154,
   "id": "60d7e740",
   "metadata": {},
   "outputs": [
    {
     "data": {
      "text/plain": [
       "<AxesSubplot:xlabel='mpg'>"
      ]
     },
     "execution_count": 154,
     "metadata": {},
     "output_type": "execute_result"
    },
    {
     "data": {
      "image/png": "[encoded data removed]",
      "text/plain": [
       "<Figure size 432x288 with 1 Axes>"
      ]
     },
     "metadata": {
      "needs_background": "light"
     },
     "output_type": "display_data"
    }
   ],
   "source": [
    "sns.regplot(y_test,yhat)"
   ]
  },
  {
   "cell_type": "code",
   "execution_count": null,
   "id": "8572fbd1",
   "metadata": {},
   "outputs": [],
   "source": []
  }
 ],
 "metadata": {
  "kernelspec": {
   "display_name": "Python 3",
   "language": "python",
   "name": "python3"
  },
  "language_info": {
   "codemirror_mode": {
    "name": "ipython",
    "version": 3
   },
   "file_extension": ".py",
   "mimetype": "text/x-python",
   "name": "python",
   "nbconvert_exporter": "python",
   "pygments_lexer": "ipython3",
   "version": "3.8.8"
  }
 },
 "nbformat": 4,
 "nbformat_minor": 5
}
