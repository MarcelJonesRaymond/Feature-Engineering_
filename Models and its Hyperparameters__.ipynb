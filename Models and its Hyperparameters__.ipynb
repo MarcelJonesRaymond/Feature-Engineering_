{
 "cells": [
  {
   "cell_type": "code",
   "execution_count": 6,
   "id": "c6fd69c5",
   "metadata": {},
   "outputs": [],
   "source": [
    "import pandas as pd\n",
    "import numpy as np\n",
    "from sklearn.linear_model import LinearRegression,LogisticRegression\n",
    "from sklearn.neighbors import KNeighborsClassifier,KNeighborsRegressor\n",
    "from sklearn.naive_bayes import GaussianNB,CategoricalNB,BernoulliNB\n",
    "from sklearn.svm import SVC,SVR\n",
    "from sklearn.tree import DecisionTreeClassifier\n",
    "from sklearn.ensemble import AdaBoostClassifier,RandomForestClassifier,VotingClassifier,BaggingClassifier,BaggingRegressor,GradientBoostingClassifier,GradientBoostingRegressor\n",
    "import xgboost as xg\n"
   ]
  },
  {
   "cell_type": "code",
   "execution_count": 7,
   "id": "ef2f3197",
   "metadata": {},
   "outputs": [],
   "source": [
    "lrcl =  LogisticRegression()\n",
    "nbcl =  GaussianNB()\n",
    "dtcl = DecisionTreeClassifier()\n",
    "lr = LinearRegression()\n",
    "knncl =  KNeighborsClassifier()\n",
    "svcl= SVC()\n",
    "svr = SVR()\n",
    "rfcl =  RandomForestClassifier()\n",
    "bgcl =  BaggingClassifier()"
   ]
  },
  {
   "cell_type": "code",
   "execution_count": 10,
   "id": "5f0185e0",
   "metadata": {},
   "outputs": [
    {
     "name": "stdout",
     "output_type": "stream",
     "text": [
      "model name:  lrcl\n",
      "\n",
      " model_hyperparameters \n",
      " {'C': 1.0, 'class_weight': None, 'dual': False, 'fit_intercept': True, 'intercept_scaling': 1, 'l1_ratio': None, 'max_iter': 100, 'multi_class': 'auto', 'n_jobs': None, 'penalty': 'l2', 'random_state': None, 'solver': 'lbfgs', 'tol': 0.0001, 'verbose': 0, 'warm_start': False}\n",
      "model name:  nbcl\n",
      "\n",
      " model_hyperparameters \n",
      " {'priors': None, 'var_smoothing': 1e-09}\n",
      "model name:  dtcl\n",
      "\n",
      " model_hyperparameters \n",
      " {'ccp_alpha': 0.0, 'class_weight': None, 'criterion': 'gini', 'max_depth': None, 'max_features': None, 'max_leaf_nodes': None, 'min_impurity_decrease': 0.0, 'min_impurity_split': None, 'min_samples_leaf': 1, 'min_samples_split': 2, 'min_weight_fraction_leaf': 0.0, 'random_state': None, 'splitter': 'best'}\n",
      "model name:  lr\n",
      "\n",
      " model_hyperparameters \n",
      " {'copy_X': True, 'fit_intercept': True, 'n_jobs': None, 'normalize': False, 'positive': False}\n",
      "model name:  knncl\n",
      "\n",
      " model_hyperparameters \n",
      " {'algorithm': 'auto', 'leaf_size': 30, 'metric': 'minkowski', 'metric_params': None, 'n_jobs': None, 'n_neighbors': 5, 'p': 2, 'weights': 'uniform'}\n",
      "model name:  svcl\n",
      "\n",
      " model_hyperparameters \n",
      " {'C': 1.0, 'break_ties': False, 'cache_size': 200, 'class_weight': None, 'coef0': 0.0, 'decision_function_shape': 'ovr', 'degree': 3, 'gamma': 'scale', 'kernel': 'rbf', 'max_iter': -1, 'probability': False, 'random_state': None, 'shrinking': True, 'tol': 0.001, 'verbose': False}\n",
      "model name:  svr\n",
      "\n",
      " model_hyperparameters \n",
      " {'C': 1.0, 'cache_size': 200, 'coef0': 0.0, 'degree': 3, 'epsilon': 0.1, 'gamma': 'scale', 'kernel': 'rbf', 'max_iter': -1, 'shrinking': True, 'tol': 0.001, 'verbose': False}\n",
      "model name:  rfcl\n",
      "\n",
      " model_hyperparameters \n",
      " {'bootstrap': True, 'ccp_alpha': 0.0, 'class_weight': None, 'criterion': 'gini', 'max_depth': None, 'max_features': 'auto', 'max_leaf_nodes': None, 'max_samples': None, 'min_impurity_decrease': 0.0, 'min_impurity_split': None, 'min_samples_leaf': 1, 'min_samples_split': 2, 'min_weight_fraction_leaf': 0.0, 'n_estimators': 100, 'n_jobs': None, 'oob_score': False, 'random_state': None, 'verbose': 0, 'warm_start': False}\n",
      "model name:  bgcl\n",
      "\n",
      " model_hyperparameters \n",
      " {'base_estimator': None, 'bootstrap': True, 'bootstrap_features': False, 'max_features': 1.0, 'max_samples': 1.0, 'n_estimators': 10, 'n_jobs': None, 'oob_score': False, 'random_state': None, 'verbose': 0, 'warm_start': False}\n"
     ]
    }
   ],
   "source": [
    "for clf, label in zip([lrcl , nbcl, dtcl, lr, knncl, svcl, svr,  rfcl, bgcl], \n",
    "    ['lrcl' , 'nbcl', 'dtcl', 'lr', 'knncl', 'svcl', 'svr',  'rfcl',  'bgcl']):\n",
    "    print(\"model name: \" , label)\n",
    "    print(\"\\n model_hyperparameters \\n\" , clf.get_params() )"
   ]
  },
  {
   "cell_type": "code",
   "execution_count": null,
   "id": "ade9d6c1",
   "metadata": {},
   "outputs": [],
   "source": []
  }
 ],
 "metadata": {
  "kernelspec": {
   "display_name": "Python 3",
   "language": "python",
   "name": "python3"
  },
  "language_info": {
   "codemirror_mode": {
    "name": "ipython",
    "version": 3
   },
   "file_extension": ".py",
   "mimetype": "text/x-python",
   "name": "python",
   "nbconvert_exporter": "python",
   "pygments_lexer": "ipython3",
   "version": "3.8.8"
  }
 },
 "nbformat": 4,
 "nbformat_minor": 5
}
